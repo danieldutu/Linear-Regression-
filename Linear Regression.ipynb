{
 "cells": [
  {
   "cell_type": "code",
   "execution_count": 58,
   "metadata": {
    "ExecuteTime": {
     "end_time": "2020-06-24T22:20:55.653062Z",
     "start_time": "2020-06-24T22:20:55.649874Z"
    }
   },
   "outputs": [],
   "source": [
    "import pandas as pd\n",
    "import numpy as np\n",
    "import matplotlib.pyplot as plt\n",
    "plt.style.use('dark_background')"
   ]
  },
  {
   "cell_type": "code",
   "execution_count": 28,
   "metadata": {
    "ExecuteTime": {
     "end_time": "2020-06-24T22:09:31.436288Z",
     "start_time": "2020-06-24T22:09:31.402641Z"
    }
   },
   "outputs": [],
   "source": [
    "df = pd.read_csv('sensors_val.csv')"
   ]
  },
  {
   "cell_type": "code",
   "execution_count": 29,
   "metadata": {
    "ExecuteTime": {
     "end_time": "2020-06-24T22:09:31.736858Z",
     "start_time": "2020-06-24T22:09:31.733221Z"
    }
   },
   "outputs": [],
   "source": [
    "data = df[['Temp0', 'Temp1', 'Pres1']]"
   ]
  },
  {
   "cell_type": "code",
   "execution_count": 30,
   "metadata": {
    "ExecuteTime": {
     "end_time": "2020-06-24T22:09:31.907304Z",
     "start_time": "2020-06-24T22:09:31.897394Z"
    }
   },
   "outputs": [
    {
     "data": {
      "text/html": [
       "<div>\n",
       "<style scoped>\n",
       "    .dataframe tbody tr th:only-of-type {\n",
       "        vertical-align: middle;\n",
       "    }\n",
       "\n",
       "    .dataframe tbody tr th {\n",
       "        vertical-align: top;\n",
       "    }\n",
       "\n",
       "    .dataframe thead th {\n",
       "        text-align: right;\n",
       "    }\n",
       "</style>\n",
       "<table border=\"1\" class=\"dataframe\">\n",
       "  <thead>\n",
       "    <tr style=\"text-align: right;\">\n",
       "      <th></th>\n",
       "      <th>Temp0</th>\n",
       "      <th>Temp1</th>\n",
       "      <th>Pres1</th>\n",
       "    </tr>\n",
       "  </thead>\n",
       "  <tbody>\n",
       "    <tr>\n",
       "      <th>0</th>\n",
       "      <td>75.000000</td>\n",
       "      <td>75.343750</td>\n",
       "      <td>342.333333</td>\n",
       "    </tr>\n",
       "    <tr>\n",
       "      <th>1</th>\n",
       "      <td>75.350000</td>\n",
       "      <td>75.616667</td>\n",
       "      <td>297.133333</td>\n",
       "    </tr>\n",
       "    <tr>\n",
       "      <th>2</th>\n",
       "      <td>75.866667</td>\n",
       "      <td>76.368750</td>\n",
       "      <td>296.333333</td>\n",
       "    </tr>\n",
       "    <tr>\n",
       "      <th>3</th>\n",
       "      <td>76.700000</td>\n",
       "      <td>76.981250</td>\n",
       "      <td>269.466667</td>\n",
       "    </tr>\n",
       "    <tr>\n",
       "      <th>4</th>\n",
       "      <td>76.700000</td>\n",
       "      <td>76.981250</td>\n",
       "      <td>291.900000</td>\n",
       "    </tr>\n",
       "    <tr>\n",
       "      <th>...</th>\n",
       "      <td>...</td>\n",
       "      <td>...</td>\n",
       "      <td>...</td>\n",
       "    </tr>\n",
       "    <tr>\n",
       "      <th>47066</th>\n",
       "      <td>88.700000</td>\n",
       "      <td>88.981250</td>\n",
       "      <td>238.133333</td>\n",
       "    </tr>\n",
       "    <tr>\n",
       "      <th>47067</th>\n",
       "      <td>88.783333</td>\n",
       "      <td>89.038542</td>\n",
       "      <td>239.333333</td>\n",
       "    </tr>\n",
       "    <tr>\n",
       "      <th>47068</th>\n",
       "      <td>88.450000</td>\n",
       "      <td>88.790625</td>\n",
       "      <td>252.733333</td>\n",
       "    </tr>\n",
       "    <tr>\n",
       "      <th>47069</th>\n",
       "      <td>88.133333</td>\n",
       "      <td>88.570833</td>\n",
       "      <td>232.100000</td>\n",
       "    </tr>\n",
       "    <tr>\n",
       "      <th>47070</th>\n",
       "      <td>89.000000</td>\n",
       "      <td>89.237500</td>\n",
       "      <td>256.500000</td>\n",
       "    </tr>\n",
       "  </tbody>\n",
       "</table>\n",
       "<p>47071 rows × 3 columns</p>\n",
       "</div>"
      ],
      "text/plain": [
       "           Temp0      Temp1       Pres1\n",
       "0      75.000000  75.343750  342.333333\n",
       "1      75.350000  75.616667  297.133333\n",
       "2      75.866667  76.368750  296.333333\n",
       "3      76.700000  76.981250  269.466667\n",
       "4      76.700000  76.981250  291.900000\n",
       "...          ...        ...         ...\n",
       "47066  88.700000  88.981250  238.133333\n",
       "47067  88.783333  89.038542  239.333333\n",
       "47068  88.450000  88.790625  252.733333\n",
       "47069  88.133333  88.570833  232.100000\n",
       "47070  89.000000  89.237500  256.500000\n",
       "\n",
       "[47071 rows x 3 columns]"
      ]
     },
     "execution_count": 30,
     "metadata": {},
     "output_type": "execute_result"
    }
   ],
   "source": [
    "data"
   ]
  },
  {
   "cell_type": "code",
   "execution_count": 31,
   "metadata": {
    "ExecuteTime": {
     "end_time": "2020-06-24T22:09:32.068483Z",
     "start_time": "2020-06-24T22:09:32.062354Z"
    }
   },
   "outputs": [
    {
     "data": {
      "text/plain": [
       "<bound method NDFrame.describe of            Temp0      Temp1       Pres1\n",
       "0      75.000000  75.343750  342.333333\n",
       "1      75.350000  75.616667  297.133333\n",
       "2      75.866667  76.368750  296.333333\n",
       "3      76.700000  76.981250  269.466667\n",
       "4      76.700000  76.981250  291.900000\n",
       "...          ...        ...         ...\n",
       "47066  88.700000  88.981250  238.133333\n",
       "47067  88.783333  89.038542  239.333333\n",
       "47068  88.450000  88.790625  252.733333\n",
       "47069  88.133333  88.570833  232.100000\n",
       "47070  89.000000  89.237500  256.500000\n",
       "\n",
       "[47071 rows x 3 columns]>"
      ]
     },
     "execution_count": 31,
     "metadata": {},
     "output_type": "execute_result"
    }
   ],
   "source": [
    "data.describe"
   ]
  },
  {
   "cell_type": "code",
   "execution_count": 32,
   "metadata": {
    "ExecuteTime": {
     "end_time": "2020-06-24T22:09:32.203269Z",
     "start_time": "2020-06-24T22:09:32.197520Z"
    }
   },
   "outputs": [
    {
     "data": {
      "text/plain": [
       "Temp0    False\n",
       "Temp1    False\n",
       "Pres1    False\n",
       "dtype: bool"
      ]
     },
     "execution_count": 32,
     "metadata": {},
     "output_type": "execute_result"
    }
   ],
   "source": [
    "data.isnull().any()"
   ]
  },
  {
   "cell_type": "code",
   "execution_count": 33,
   "metadata": {
    "ExecuteTime": {
     "end_time": "2020-06-24T22:09:32.401157Z",
     "start_time": "2020-06-24T22:09:32.395328Z"
    }
   },
   "outputs": [
    {
     "data": {
      "text/plain": [
       "Temp0    0.0\n",
       "Temp1    0.0\n",
       "Pres1    0.0\n",
       "dtype: float64"
      ]
     },
     "execution_count": 33,
     "metadata": {},
     "output_type": "execute_result"
    }
   ],
   "source": [
    "data.isnull().sum()/ data.shape[0]"
   ]
  },
  {
   "cell_type": "code",
   "execution_count": 34,
   "metadata": {
    "ExecuteTime": {
     "end_time": "2020-06-24T22:09:32.850326Z",
     "start_time": "2020-06-24T22:09:32.828389Z"
    }
   },
   "outputs": [
    {
     "data": {
      "text/html": [
       "<div>\n",
       "<style scoped>\n",
       "    .dataframe tbody tr th:only-of-type {\n",
       "        vertical-align: middle;\n",
       "    }\n",
       "\n",
       "    .dataframe tbody tr th {\n",
       "        vertical-align: top;\n",
       "    }\n",
       "\n",
       "    .dataframe thead th {\n",
       "        text-align: right;\n",
       "    }\n",
       "</style>\n",
       "<table border=\"1\" class=\"dataframe\">\n",
       "  <thead>\n",
       "    <tr style=\"text-align: right;\">\n",
       "      <th></th>\n",
       "      <th>Temp0</th>\n",
       "      <th>Temp1</th>\n",
       "      <th>Pres1</th>\n",
       "    </tr>\n",
       "  </thead>\n",
       "  <tbody>\n",
       "    <tr>\n",
       "      <th>count</th>\n",
       "      <td>47071.000000</td>\n",
       "      <td>47071.000000</td>\n",
       "      <td>47071.000000</td>\n",
       "    </tr>\n",
       "    <tr>\n",
       "      <th>mean</th>\n",
       "      <td>81.273901</td>\n",
       "      <td>81.635643</td>\n",
       "      <td>275.688766</td>\n",
       "    </tr>\n",
       "    <tr>\n",
       "      <th>std</th>\n",
       "      <td>3.352182</td>\n",
       "      <td>3.347668</td>\n",
       "      <td>36.315515</td>\n",
       "    </tr>\n",
       "    <tr>\n",
       "      <th>min</th>\n",
       "      <td>75.000000</td>\n",
       "      <td>75.000000</td>\n",
       "      <td>136.666667</td>\n",
       "    </tr>\n",
       "    <tr>\n",
       "      <th>25%</th>\n",
       "      <td>79.000000</td>\n",
       "      <td>79.472917</td>\n",
       "      <td>251.966667</td>\n",
       "    </tr>\n",
       "    <tr>\n",
       "      <th>50%</th>\n",
       "      <td>80.683333</td>\n",
       "      <td>80.933333</td>\n",
       "      <td>270.333333</td>\n",
       "    </tr>\n",
       "    <tr>\n",
       "      <th>75%</th>\n",
       "      <td>82.700000</td>\n",
       "      <td>82.985417</td>\n",
       "      <td>291.633333</td>\n",
       "    </tr>\n",
       "    <tr>\n",
       "      <th>max</th>\n",
       "      <td>127.000000</td>\n",
       "      <td>137.012500</td>\n",
       "      <td>594.433333</td>\n",
       "    </tr>\n",
       "  </tbody>\n",
       "</table>\n",
       "</div>"
      ],
      "text/plain": [
       "              Temp0         Temp1         Pres1\n",
       "count  47071.000000  47071.000000  47071.000000\n",
       "mean      81.273901     81.635643    275.688766\n",
       "std        3.352182      3.347668     36.315515\n",
       "min       75.000000     75.000000    136.666667\n",
       "25%       79.000000     79.472917    251.966667\n",
       "50%       80.683333     80.933333    270.333333\n",
       "75%       82.700000     82.985417    291.633333\n",
       "max      127.000000    137.012500    594.433333"
      ]
     },
     "execution_count": 34,
     "metadata": {},
     "output_type": "execute_result"
    }
   ],
   "source": [
    "data.describe()"
   ]
  },
  {
   "cell_type": "code",
   "execution_count": 35,
   "metadata": {
    "ExecuteTime": {
     "end_time": "2020-06-24T22:09:33.350136Z",
     "start_time": "2020-06-24T22:09:33.216679Z"
    }
   },
   "outputs": [
    {
     "data": {
      "text/plain": [
       "<matplotlib.axes._subplots.AxesSubplot at 0x7fe2342e7590>"
      ]
     },
     "execution_count": 35,
     "metadata": {},
     "output_type": "execute_result"
    },
    {
     "data": {
      "image/png": "[encoded data removed]",
      "text/plain": [
       "<Figure size 432x288 with 1 Axes>"
      ]
     },
     "metadata": {},
     "output_type": "display_data"
    }
   ],
   "source": [
    "data.boxplot('Temp0')"
   ]
  },
  {
   "cell_type": "code",
   "execution_count": 36,
   "metadata": {
    "ExecuteTime": {
     "end_time": "2020-06-24T22:09:35.538828Z",
     "start_time": "2020-06-24T22:09:35.407821Z"
    }
   },
   "outputs": [
    {
     "data": {
      "text/plain": [
       "<matplotlib.axes._subplots.AxesSubplot at 0x7fe2341d6410>"
      ]
     },
     "execution_count": 36,
     "metadata": {},
     "output_type": "execute_result"
    },
    {
     "data": {
      "image/png": "[encoded data removed]",
      "text/plain": [
       "<Figure size 432x288 with 1 Axes>"
      ]
     },
     "metadata": {},
     "output_type": "display_data"
    }
   ],
   "source": [
    "data.boxplot('Temp1')"
   ]
  },
  {
   "cell_type": "code",
   "execution_count": 37,
   "metadata": {
    "ExecuteTime": {
     "end_time": "2020-06-24T22:09:45.432630Z",
     "start_time": "2020-06-24T22:09:45.307918Z"
    }
   },
   "outputs": [
    {
     "data": {
      "text/plain": [
       "<matplotlib.axes._subplots.AxesSubplot at 0x7fe235dbaad0>"
      ]
     },
     "execution_count": 37,
     "metadata": {},
     "output_type": "execute_result"
    },
    {
     "data": {
      "image/png": "[encoded data removed]",
      "text/plain": [
       "<Figure size 432x288 with 1 Axes>"
      ]
     },
     "metadata": {},
     "output_type": "display_data"
    }
   ],
   "source": [
    "data.boxplot('Pres1')"
   ]
  },
  {
   "cell_type": "code",
   "execution_count": 38,
   "metadata": {
    "ExecuteTime": {
     "end_time": "2020-06-24T22:11:05.742897Z",
     "start_time": "2020-06-24T22:11:05.412305Z"
    }
   },
   "outputs": [
    {
     "data": {
      "text/plain": [
       "array([[<matplotlib.axes._subplots.AxesSubplot object at 0x7fe23696bf10>,\n",
       "        <matplotlib.axes._subplots.AxesSubplot object at 0x7fe2352f9d50>],\n",
       "       [<matplotlib.axes._subplots.AxesSubplot object at 0x7fe23531f4d0>,\n",
       "        <matplotlib.axes._subplots.AxesSubplot object at 0x7fe23529ecd0>]],\n",
       "      dtype=object)"
      ]
     },
     "execution_count": 38,
     "metadata": {},
     "output_type": "execute_result"
    },
    {
     "data": {
      "image/png": "[encoded data removed]",
      "text/plain": [
       "<Figure size 432x288 with 4 Axes>"
      ]
     },
     "metadata": {},
     "output_type": "display_data"
    }
   ],
   "source": [
    "data[['Temp0', 'Temp1', 'Pres1']].hist()"
   ]
  },
  {
   "cell_type": "code",
   "execution_count": 39,
   "metadata": {
    "ExecuteTime": {
     "end_time": "2020-06-24T22:12:06.234603Z",
     "start_time": "2020-06-24T22:12:05.592671Z"
    }
   },
   "outputs": [
    {
     "name": "stderr",
     "output_type": "stream",
     "text": [
      "/Users/danieldutu/opt/anaconda3/lib/python3.7/site-packages/statsmodels/tools/_testing.py:19: FutureWarning: pandas.util.testing is deprecated. Use the functions in the public API at pandas.testing instead.\n",
      "  import pandas.util.testing as tm\n"
     ]
    }
   ],
   "source": [
    "import seaborn as sns "
   ]
  },
  {
   "cell_type": "code",
   "execution_count": 44,
   "metadata": {
    "ExecuteTime": {
     "end_time": "2020-06-24T22:13:38.480212Z",
     "start_time": "2020-06-24T22:13:38.477812Z"
    }
   },
   "outputs": [],
   "source": [
    "corrdata = data"
   ]
  },
  {
   "cell_type": "code",
   "execution_count": 45,
   "metadata": {
    "ExecuteTime": {
     "end_time": "2020-06-24T22:13:38.840191Z",
     "start_time": "2020-06-24T22:13:38.836043Z"
    }
   },
   "outputs": [],
   "source": [
    "corr = corrdata.corr()"
   ]
  },
  {
   "cell_type": "code",
   "execution_count": 51,
   "metadata": {
    "ExecuteTime": {
     "end_time": "2020-06-24T22:15:51.930918Z",
     "start_time": "2020-06-24T22:15:51.800165Z"
    }
   },
   "outputs": [
    {
     "data": {
      "image/png": "[encoded data removed]",
      "text/plain": [
       "<Figure size 432x288 with 2 Axes>"
      ]
     },
     "metadata": {},
     "output_type": "display_data"
    }
   ],
   "source": [
    "ax = sns.heatmap(\n",
    "    corr, \n",
    "    vmin=-1, vmax=1, center=0,\n",
    "    square=True\n",
    ")\n",
    "ax.set_xticklabels(\n",
    "    ax.get_xticklabels(),\n",
    "    rotation=45,\n",
    "    horizontalalignment='right'\n",
    ");"
   ]
  },
  {
   "cell_type": "code",
   "execution_count": 52,
   "metadata": {
    "ExecuteTime": {
     "end_time": "2020-06-24T22:18:20.628168Z",
     "start_time": "2020-06-24T22:18:20.561950Z"
    }
   },
   "outputs": [],
   "source": [
    "from sklearn.model_selection import train_test_split\n",
    "from sklearn.linear_model import LinearRegression\n",
    "from sklearn.metrics import mean_squared_error, mean_absolute_error\n",
    "import math"
   ]
  },
  {
   "cell_type": "code",
   "execution_count": 53,
   "metadata": {
    "ExecuteTime": {
     "end_time": "2020-06-24T22:19:45.273873Z",
     "start_time": "2020-06-24T22:19:45.270337Z"
    }
   },
   "outputs": [],
   "source": [
    "X1 = data.Temp1.values.reshape(-1,1)\n",
    "y1 = data.Pres1.values.reshape(-1,1)"
   ]
  },
  {
   "cell_type": "code",
   "execution_count": 54,
   "metadata": {
    "ExecuteTime": {
     "end_time": "2020-06-24T22:19:58.970550Z",
     "start_time": "2020-06-24T22:19:58.963430Z"
    }
   },
   "outputs": [],
   "source": [
    "X_train1, X_test1, y_train1, y_test1 = train_test_split(X1, y1, test_size=0.3, random_state=0)"
   ]
  },
  {
   "cell_type": "code",
   "execution_count": 62,
   "metadata": {
    "ExecuteTime": {
     "end_time": "2020-06-24T22:22:12.324283Z",
     "start_time": "2020-06-24T22:22:12.317062Z"
    }
   },
   "outputs": [
    {
     "name": "stdout",
     "output_type": "stream",
     "text": [
      "0.03945291795245498\n"
     ]
    }
   ],
   "source": [
    "reg = LinearRegression().fit(X_train1, y_train1)\n",
    "print(reg.score(X_train1, y_train1))\n",
    "reg.coef_\n",
    "y_hat1 = reg.predict(X_train1)"
   ]
  },
  {
   "cell_type": "code",
   "execution_count": 59,
   "metadata": {
    "ExecuteTime": {
     "end_time": "2020-06-24T22:20:59.278831Z",
     "start_time": "2020-06-24T22:20:58.847826Z"
    }
   },
   "outputs": [
    {
     "data": {
      "image/png": "[encoded data removed]",
      "text/plain": [
       "<Figure size 432x288 with 1 Axes>"
      ]
     },
     "metadata": {},
     "output_type": "display_data"
    }
   ],
   "source": [
    "plt.scatter(X_train1,y_train1)\n",
    "plt.scatter(X_train1,y_hat1)\n",
    "plt.show()"
   ]
  },
  {
   "cell_type": "code",
   "execution_count": 60,
   "metadata": {
    "ExecuteTime": {
     "end_time": "2020-06-24T22:21:16.401483Z",
     "start_time": "2020-06-24T22:21:16.154836Z"
    }
   },
   "outputs": [
    {
     "data": {
      "image/png": "[encoded data removed]",
      "text/plain": [
       "<Figure size 432x288 with 1 Axes>"
      ]
     },
     "metadata": {},
     "output_type": "display_data"
    }
   ],
   "source": [
    "y_hat_test1 = reg.predict(X_test1)\n",
    "plt.scatter(X_test1, y_test1)\n",
    "plt.scatter(X_test1, y_hat_test1)\n",
    "plt.show()"
   ]
  },
  {
   "cell_type": "code",
   "execution_count": 61,
   "metadata": {
    "ExecuteTime": {
     "end_time": "2020-06-24T22:21:30.664692Z",
     "start_time": "2020-06-24T22:21:30.660157Z"
    }
   },
   "outputs": [
    {
     "name": "stdout",
     "output_type": "stream",
     "text": [
      "Root Mean Squared Error =  35.10304016450607\n",
      "Mean Absolute Error =  25.256960652817448\n"
     ]
    }
   ],
   "source": [
    "mae = mean_absolute_error(y_hat_test1,y_test1)\n",
    "rmse = math.sqrt(mean_squared_error(y_hat_test1,y_test1))\n",
    "print('Root Mean Squared Error = ',rmse)\n",
    "print('Mean Absolute Error = ',mae)"
   ]
  },
  {
   "cell_type": "code",
   "execution_count": 63,
   "metadata": {
    "ExecuteTime": {
     "end_time": "2020-06-24T22:22:59.067875Z",
     "start_time": "2020-06-24T22:22:58.714163Z"
    }
   },
   "outputs": [],
   "source": [
    "import statsmodels.api as sm"
   ]
  },
  {
   "cell_type": "code",
   "execution_count": 64,
   "metadata": {
    "ExecuteTime": {
     "end_time": "2020-06-24T22:28:06.655839Z",
     "start_time": "2020-06-24T22:28:06.609564Z"
    }
   },
   "outputs": [
    {
     "data": {
      "text/html": [
       "<table class=\"simpletable\">\n",
       "<caption>OLS Regression Results</caption>\n",
       "<tr>\n",
       "  <th>Dep. Variable:</th>            <td>y</td>        <th>  R-squared:         </th>  <td>   0.039</td>  \n",
       "</tr>\n",
       "<tr>\n",
       "  <th>Model:</th>                   <td>OLS</td>       <th>  Adj. R-squared:    </th>  <td>   0.039</td>  \n",
       "</tr>\n",
       "<tr>\n",
       "  <th>Method:</th>             <td>Least Squares</td>  <th>  F-statistic:       </th>  <td>   1353.</td>  \n",
       "</tr>\n",
       "<tr>\n",
       "  <th>Date:</th>             <td>Thu, 25 Jun 2020</td> <th>  Prob (F-statistic):</th>  <td>2.32e-290</td> \n",
       "</tr>\n",
       "<tr>\n",
       "  <th>Time:</th>                 <td>01:28:06</td>     <th>  Log-Likelihood:    </th> <td>-1.6461e+05</td>\n",
       "</tr>\n",
       "<tr>\n",
       "  <th>No. Observations:</th>      <td> 32949</td>      <th>  AIC:               </th>  <td>3.292e+05</td> \n",
       "</tr>\n",
       "<tr>\n",
       "  <th>Df Residuals:</th>          <td> 32947</td>      <th>  BIC:               </th>  <td>3.292e+05</td> \n",
       "</tr>\n",
       "<tr>\n",
       "  <th>Df Model:</th>              <td>     1</td>      <th>                     </th>      <td> </td>     \n",
       "</tr>\n",
       "<tr>\n",
       "  <th>Covariance Type:</th>      <td>nonrobust</td>    <th>                     </th>      <td> </td>     \n",
       "</tr>\n",
       "</table>\n",
       "<table class=\"simpletable\">\n",
       "<tr>\n",
       "    <td></td>       <th>coef</th>     <th>std err</th>      <th>t</th>      <th>P>|t|</th>  <th>[0.025</th>    <th>0.975]</th>  \n",
       "</tr>\n",
       "<tr>\n",
       "  <th>const</th> <td>  452.3663</td> <td>    4.809</td> <td>   94.069</td> <td> 0.000</td> <td>  442.941</td> <td>  461.792</td>\n",
       "</tr>\n",
       "<tr>\n",
       "  <th>Temp1</th> <td>   -2.1649</td> <td>    0.059</td> <td>  -36.786</td> <td> 0.000</td> <td>   -2.280</td> <td>   -2.050</td>\n",
       "</tr>\n",
       "</table>\n",
       "<table class=\"simpletable\">\n",
       "<tr>\n",
       "  <th>Omnibus:</th>       <td>14165.029</td> <th>  Durbin-Watson:     </th> <td>   2.007</td> \n",
       "</tr>\n",
       "<tr>\n",
       "  <th>Prob(Omnibus):</th>  <td> 0.000</td>   <th>  Jarque-Bera (JB):  </th> <td>94854.265</td>\n",
       "</tr>\n",
       "<tr>\n",
       "  <th>Skew:</th>           <td> 1.946</td>   <th>  Prob(JB):          </th> <td>    0.00</td> \n",
       "</tr>\n",
       "<tr>\n",
       "  <th>Kurtosis:</th>       <td>10.344</td>   <th>  Cond. No.          </th> <td>1.99e+03</td> \n",
       "</tr>\n",
       "</table><br/><br/>Warnings:<br/>[1] Standard Errors assume that the covariance matrix of the errors is correctly specified.<br/>[2] The condition number is large, 1.99e+03. This might indicate that there are<br/>strong multicollinearity or other numerical problems."
      ],
      "text/plain": [
       "<class 'statsmodels.iolib.summary.Summary'>\n",
       "\"\"\"\n",
       "                            OLS Regression Results                            \n",
       "==============================================================================\n",
       "Dep. Variable:                      y   R-squared:                       0.039\n",
       "Model:                            OLS   Adj. R-squared:                  0.039\n",
       "Method:                 Least Squares   F-statistic:                     1353.\n",
       "Date:                Thu, 25 Jun 2020   Prob (F-statistic):          2.32e-290\n",
       "Time:                        01:28:06   Log-Likelihood:            -1.6461e+05\n",
       "No. Observations:               32949   AIC:                         3.292e+05\n",
       "Df Residuals:                   32947   BIC:                         3.292e+05\n",
       "Df Model:                           1                                         \n",
       "Covariance Type:            nonrobust                                         \n",
       "==============================================================================\n",
       "                 coef    std err          t      P>|t|      [0.025      0.975]\n",
       "------------------------------------------------------------------------------\n",
       "const        452.3663      4.809     94.069      0.000     442.941     461.792\n",
       "Temp1         -2.1649      0.059    -36.786      0.000      -2.280      -2.050\n",
       "==============================================================================\n",
       "Omnibus:                    14165.029   Durbin-Watson:                   2.007\n",
       "Prob(Omnibus):                  0.000   Jarque-Bera (JB):            94854.265\n",
       "Skew:                           1.946   Prob(JB):                         0.00\n",
       "Kurtosis:                      10.344   Cond. No.                     1.99e+03\n",
       "==============================================================================\n",
       "\n",
       "Warnings:\n",
       "[1] Standard Errors assume that the covariance matrix of the errors is correctly specified.\n",
       "[2] The condition number is large, 1.99e+03. This might indicate that there are\n",
       "strong multicollinearity or other numerical problems.\n",
       "\"\"\""
      ]
     },
     "execution_count": 64,
     "metadata": {},
     "output_type": "execute_result"
    }
   ],
   "source": [
    "X1b = data[['Temp1']]\n",
    "X1b = sm.add_constant(X1b)\n",
    "y1b = data.Pres1.values\n",
    "\n",
    "X_train1b, X_test1b, y_train1b, y_test1b = train_test_split(X1b, y1b, test_size=0.3, random_state=0)\n",
    "\n",
    "reg_sm1b = sm.OLS(y_train1b, X_train1b).fit()\n",
    "reg_sm1b.summary()"
   ]
  },
  {
   "cell_type": "code",
   "execution_count": 65,
   "metadata": {
    "ExecuteTime": {
     "end_time": "2020-06-24T22:33:34.966968Z",
     "start_time": "2020-06-24T22:33:34.964677Z"
    }
   },
   "outputs": [],
   "source": [
    "### 452,4 - 2.16 * temp1 "
   ]
  },
  {
   "cell_type": "code",
   "execution_count": 66,
   "metadata": {
    "ExecuteTime": {
     "end_time": "2020-06-24T22:36:01.476962Z",
     "start_time": "2020-06-24T22:36:01.474951Z"
    }
   },
   "outputs": [],
   "source": [
    "# multiple linear regression "
   ]
  },
  {
   "cell_type": "code",
   "execution_count": 67,
   "metadata": {
    "ExecuteTime": {
     "end_time": "2020-06-24T22:37:34.679855Z",
     "start_time": "2020-06-24T22:37:34.675475Z"
    }
   },
   "outputs": [],
   "source": [
    "from statsmodels.stats.outliers_influence import variance_inflation_factor"
   ]
  },
  {
   "cell_type": "code",
   "execution_count": 71,
   "metadata": {
    "ExecuteTime": {
     "end_time": "2020-06-24T22:38:24.131059Z",
     "start_time": "2020-06-24T22:38:24.101602Z"
    }
   },
   "outputs": [
    {
     "data": {
      "text/html": [
       "<table class=\"simpletable\">\n",
       "<caption>OLS Regression Results</caption>\n",
       "<tr>\n",
       "  <th>Dep. Variable:</th>            <td>y</td>        <th>  R-squared:         </th>  <td>   0.040</td>  \n",
       "</tr>\n",
       "<tr>\n",
       "  <th>Model:</th>                   <td>OLS</td>       <th>  Adj. R-squared:    </th>  <td>   0.040</td>  \n",
       "</tr>\n",
       "<tr>\n",
       "  <th>Method:</th>             <td>Least Squares</td>  <th>  F-statistic:       </th>  <td>   684.5</td>  \n",
       "</tr>\n",
       "<tr>\n",
       "  <th>Date:</th>             <td>Thu, 25 Jun 2020</td> <th>  Prob (F-statistic):</th>  <td>5.44e-292</td> \n",
       "</tr>\n",
       "<tr>\n",
       "  <th>Time:</th>                 <td>01:38:24</td>     <th>  Log-Likelihood:    </th> <td>-1.6460e+05</td>\n",
       "</tr>\n",
       "<tr>\n",
       "  <th>No. Observations:</th>      <td> 32949</td>      <th>  AIC:               </th>  <td>3.292e+05</td> \n",
       "</tr>\n",
       "<tr>\n",
       "  <th>Df Residuals:</th>          <td> 32946</td>      <th>  BIC:               </th>  <td>3.292e+05</td> \n",
       "</tr>\n",
       "<tr>\n",
       "  <th>Df Model:</th>              <td>     2</td>      <th>                     </th>      <td> </td>     \n",
       "</tr>\n",
       "<tr>\n",
       "  <th>Covariance Type:</th>      <td>nonrobust</td>    <th>                     </th>      <td> </td>     \n",
       "</tr>\n",
       "</table>\n",
       "<table class=\"simpletable\">\n",
       "<tr>\n",
       "    <td></td>       <th>coef</th>     <th>std err</th>      <th>t</th>      <th>P>|t|</th>  <th>[0.025</th>    <th>0.975]</th>  \n",
       "</tr>\n",
       "<tr>\n",
       "  <th>const</th> <td>  454.1730</td> <td>    4.830</td> <td>   94.028</td> <td> 0.000</td> <td>  444.706</td> <td>  463.640</td>\n",
       "</tr>\n",
       "<tr>\n",
       "  <th>Temp0</th> <td>    4.5052</td> <td>    1.157</td> <td>    3.895</td> <td> 0.000</td> <td>    2.238</td> <td>    6.772</td>\n",
       "</tr>\n",
       "<tr>\n",
       "  <th>Temp1</th> <td>   -6.6723</td> <td>    1.159</td> <td>   -5.759</td> <td> 0.000</td> <td>   -8.943</td> <td>   -4.401</td>\n",
       "</tr>\n",
       "</table>\n",
       "<table class=\"simpletable\">\n",
       "<tr>\n",
       "  <th>Omnibus:</th>       <td>14158.839</td> <th>  Durbin-Watson:     </th> <td>   2.007</td> \n",
       "</tr>\n",
       "<tr>\n",
       "  <th>Prob(Omnibus):</th>  <td> 0.000</td>   <th>  Jarque-Bera (JB):  </th> <td>94761.458</td>\n",
       "</tr>\n",
       "<tr>\n",
       "  <th>Skew:</th>           <td> 1.946</td>   <th>  Prob(JB):          </th> <td>    0.00</td> \n",
       "</tr>\n",
       "<tr>\n",
       "  <th>Kurtosis:</th>       <td>10.340</td>   <th>  Cond. No.          </th> <td>2.83e+03</td> \n",
       "</tr>\n",
       "</table><br/><br/>Warnings:<br/>[1] Standard Errors assume that the covariance matrix of the errors is correctly specified.<br/>[2] The condition number is large, 2.83e+03. This might indicate that there are<br/>strong multicollinearity or other numerical problems."
      ],
      "text/plain": [
       "<class 'statsmodels.iolib.summary.Summary'>\n",
       "\"\"\"\n",
       "                            OLS Regression Results                            \n",
       "==============================================================================\n",
       "Dep. Variable:                      y   R-squared:                       0.040\n",
       "Model:                            OLS   Adj. R-squared:                  0.040\n",
       "Method:                 Least Squares   F-statistic:                     684.5\n",
       "Date:                Thu, 25 Jun 2020   Prob (F-statistic):          5.44e-292\n",
       "Time:                        01:38:24   Log-Likelihood:            -1.6460e+05\n",
       "No. Observations:               32949   AIC:                         3.292e+05\n",
       "Df Residuals:                   32946   BIC:                         3.292e+05\n",
       "Df Model:                           2                                         \n",
       "Covariance Type:            nonrobust                                         \n",
       "==============================================================================\n",
       "                 coef    std err          t      P>|t|      [0.025      0.975]\n",
       "------------------------------------------------------------------------------\n",
       "const        454.1730      4.830     94.028      0.000     444.706     463.640\n",
       "Temp0          4.5052      1.157      3.895      0.000       2.238       6.772\n",
       "Temp1         -6.6723      1.159     -5.759      0.000      -8.943      -4.401\n",
       "==============================================================================\n",
       "Omnibus:                    14158.839   Durbin-Watson:                   2.007\n",
       "Prob(Omnibus):                  0.000   Jarque-Bera (JB):            94761.458\n",
       "Skew:                           1.946   Prob(JB):                         0.00\n",
       "Kurtosis:                      10.340   Cond. No.                     2.83e+03\n",
       "==============================================================================\n",
       "\n",
       "Warnings:\n",
       "[1] Standard Errors assume that the covariance matrix of the errors is correctly specified.\n",
       "[2] The condition number is large, 2.83e+03. This might indicate that there are\n",
       "strong multicollinearity or other numerical problems.\n",
       "\"\"\""
      ]
     },
     "execution_count": 71,
     "metadata": {},
     "output_type": "execute_result"
    }
   ],
   "source": [
    "X2 = data[['Temp0','Temp1']]\n",
    "X2 = sm.add_constant(X2)\n",
    "y2 = data.Pres1.values\n",
    "\n",
    "X_train2, X_test2, y_train2, y_test2 = train_test_split(X2, y2, test_size=0.3, random_state=0)\n",
    "\n",
    "reg_sm2 = sm.OLS(y_train2, X_train2).fit()\n",
    "reg_sm2.summary()"
   ]
  },
  {
   "cell_type": "code",
   "execution_count": 73,
   "metadata": {
    "ExecuteTime": {
     "end_time": "2020-06-24T22:39:16.499852Z",
     "start_time": "2020-06-24T22:39:16.483346Z"
    }
   },
   "outputs": [
    {
     "data": {
      "text/plain": [
       "const    600.220321\n",
       "Temp0    382.893311\n",
       "Temp1    382.893311\n",
       "dtype: float64"
      ]
     },
     "execution_count": 73,
     "metadata": {},
     "output_type": "execute_result"
    }
   ],
   "source": [
    "pd.Series([variance_inflation_factor(X2.values,i) for i in range(X2.shape[1])],index=X2.columns)"
   ]
  },
  {
   "cell_type": "code",
   "execution_count": 79,
   "metadata": {
    "ExecuteTime": {
     "end_time": "2020-06-24T22:44:51.977097Z",
     "start_time": "2020-06-24T22:44:51.970800Z"
    }
   },
   "outputs": [
    {
     "data": {
      "text/plain": [
       "35.09259195471799"
      ]
     },
     "execution_count": 79,
     "metadata": {},
     "output_type": "execute_result"
    }
   ],
   "source": [
    "y_hat2 = reg_sm2.predict(X_test2)\n",
    "\n",
    "rmse2 = math.sqrt(mean_squared_error(y_hat2,y_test2))\n",
    "rmse2"
   ]
  },
  {
   "cell_type": "code",
   "execution_count": 80,
   "metadata": {
    "ExecuteTime": {
     "end_time": "2020-06-24T22:44:54.725428Z",
     "start_time": "2020-06-24T22:44:54.385908Z"
    }
   },
   "outputs": [
    {
     "data": {
      "text/plain": [
       "<matplotlib.collections.PathCollection at 0x7fe21c232f90>"
      ]
     },
     "execution_count": 80,
     "metadata": {},
     "output_type": "execute_result"
    },
    {
     "data": {
      "image/png": "[encoded data removed]",
      "text/plain": [
       "<Figure size 432x288 with 1 Axes>"
      ]
     },
     "metadata": {},
     "output_type": "display_data"
    }
   ],
   "source": [
    "plt.scatter(y_hat2,y_test2)"
   ]
  },
  {
   "cell_type": "code",
   "execution_count": null,
   "metadata": {},
   "outputs": [],
   "source": []
  }
 ],
 "metadata": {
  "kernelspec": {
   "display_name": "Python 3",
   "language": "python",
   "name": "python3"
  },
  "language_info": {
   "codemirror_mode": {
    "name": "ipython",
    "version": 3
   },
   "file_extension": ".py",
   "mimetype": "text/x-python",
   "name": "python",
   "nbconvert_exporter": "python",
   "pygments_lexer": "ipython3",
   "version": "3.7.4"
  },
  "varInspector": {
   "cols": {
    "lenName": 16,
    "lenType": 16,
    "lenVar": 40
   },
   "kernels_config": {
    "python": {
     "delete_cmd_postfix": "",
     "delete_cmd_prefix": "del ",
     "library": "var_list.py",
     "varRefreshCmd": "print(var_dic_list())"
    },
    "r": {
     "delete_cmd_postfix": ") ",
     "delete_cmd_prefix": "rm(",
     "library": "var_list.r",
     "varRefreshCmd": "cat(var_dic_list()) "
    }
   },
   "types_to_exclude": [
    "module",
    "function",
    "builtin_function_or_method",
    "instance",
    "_Feature"
   ],
   "window_display": false
  }
 },
 "nbformat": 4,
 "nbformat_minor": 2
}
